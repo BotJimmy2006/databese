{
 "cells": [
  {
   "cell_type": "code",
   "execution_count": null,
   "metadata": {},
   "outputs": [],
   "source": [
    "import gspread\n",
    "import datetime"
   ]
  },
  {
   "cell_type": "code",
   "execution_count": null,
   "metadata": {},
   "outputs": [],
   "source": [
    "#เชื่อมต่อ API GoogleSheet\n",
    "google_api_connect = gspread.service_account(filename='api_heet.json')"
   ]
  },
  {
   "cell_type": "code",
   "execution_count": 5,
   "metadata": {},
   "outputs": [
    {
     "data": {
      "text/plain": [
       "<Spreadsheet 'Database' id:1i7hyDKWmAL9QMN47xYbcCOE2BIAV6CBtaEw4ZItn2R8>"
      ]
     },
     "execution_count": 5,
     "metadata": {},
     "output_type": "execute_result"
    }
   ],
   "source": [
    "# สร้างไฟล์ สเปรตชีต\n",
    "shair_file = google_api_connect.create( 'Database' )\n",
    "\n",
    "# แชร์ไฟล์ สเปรตชีต มาให้เรา\n",
    "shair_file.share(  email_address='phuphaeiei55@gmail.com' , perm_type='user' , role='writer' )\n",
    "\n",
    "# ดึง Url สเปรตชีตออก\n",
    "google_api_connect.open_by_key( shair_file.id )"
   ]
  },
  {
   "cell_type": "code",
   "execution_count": 6,
   "metadata": {},
   "outputs": [],
   "source": [
    "# เชื่อมต่อ สเปรตชีต\n",
    "sheet_selete = google_api_connect.open_by_key( '1i7hyDKWmAL9QMN47xYbcCOE2BIAV6CBtaEw4ZItn2R8' )\n",
    "\n",
    "# เชื่อมต่อกับ Workชีต\n",
    "action_sheet =  sheet_selete.worksheet( 'Sheet1' )"
   ]
  },
  {
   "cell_type": "code",
   "execution_count": 7,
   "metadata": {},
   "outputs": [
    {
     "data": {
      "text/plain": [
       "{'spreadsheetId': '1i7hyDKWmAL9QMN47xYbcCOE2BIAV6CBtaEw4ZItn2R8',\n",
       " 'replies': [{}]}"
      ]
     },
     "execution_count": 7,
     "metadata": {},
     "output_type": "execute_result"
    }
   ],
   "source": [
    "# สร้างหัวตาราง\n",
    "new_row = [ 'user' , 'password' , 'status' , 'date' ]\n",
    "action_sheet.insert_row( values= new_row , index=1 )\n",
    "\n",
    "# Lock แถว\n",
    "action_sheet.freeze( rows=1 , cols=1 )\n",
    "action_sheet.freeze( rows=1 , cols=2 )\n",
    "action_sheet.freeze( rows=1 , cols=3 )\n",
    "action_sheet.freeze( rows=1 , cols=4 )\n",
    "\n",
    "# ปรับสีตัวหนังสือสีเหลือง\n",
    "table = 'A1:D1'\n",
    "\n",
    "format_data = {\n",
    "\n",
    "    \"textFormat\" : {\n",
    "\n",
    "        \"bold\" : True ,\n",
    "\n",
    "        \"foregroundColor\" : {\n",
    "\n",
    "            \"red\" : 255 / 255,\n",
    "            \"green\" : 255 /255,\n",
    "            \"blue\" : 0 /255\n",
    "\n",
    "        }\n",
    "\n",
    "\n",
    "    }\n",
    "\n",
    "}\n",
    "\n",
    "action_sheet.format( ranges = table , format=format_data )\n",
    "\n",
    "# ปรับสีพื้นหลังสีดำ\n",
    "table = 'A1:D1'\n",
    "\n",
    "format_data = {\n",
    "\n",
    "    \"backgroundColor\" : {\n",
    "\n",
    "        \"red\" : 0 /255,\n",
    "        \"green\" : 0 /255,\n",
    "        \"blue\" : 0 /255,\n",
    "        \"alpha\" : 1 /255 ,\n",
    "\n",
    "    }\n",
    "\n",
    "}\n",
    "\n",
    "action_sheet.format( ranges = table , format=format_data )\n",
    "\n",
    "# จัดค่อลั่มให้อยู่ตรงกลาง\n",
    "table = 'A1:D1'\n",
    "\n",
    "format_data = {\n",
    "\n",
    "    \"horizontalAlignment\" : \"CENTER\" ,\n",
    "    \"verticalAlignment\" : \"MIDDLE\"\n",
    "\n",
    "}\n",
    "\n",
    "action_sheet.format( ranges = table , format=format_data )"
   ]
  },
  {
   "cell_type": "code",
   "execution_count": 19,
   "metadata": {},
   "outputs": [],
   "source": [
    "def insert_data( colum_set , data_insert , in_column_selete ) :\n",
    " \n",
    "    # วน Loop เพิ่มข้อมูล\n",
    "    for value in data_insert :\n",
    "\n",
    "        # ตรวจสอบว่ามีข้อมูลซ้ำแล้วหรอยัง\n",
    "        if  len( action_sheet.findall( query=value[0] , in_column=in_column_selete ) ) < 1 :\n",
    "\n",
    "            # ยังยังไม่มีข้อมูลซ้ำให้เพิ่มข้อมูล\n",
    "            action_sheet.append_row(  values=value , table_range=colum_set )\n",
    "\n",
    "# กำหนดคอลั่มที่ต้องการเพิ่มข้อมูล\n",
    "colum_set = 'A:D'\n",
    "\n",
    "# ข้อมูลที่เราต้องการเพิ่มเข้าไป\n",
    "data_insert = [ [ 'Name7' , 'Password1234' , '1' , str( datetime.date.today() ) ]  ]\n",
    "\n",
    "# คอลั่มที่ต้องทำการตรวจสอบข้อมูลซ้ำ\n",
    "in_column_selete = 1\n",
    "\n",
    "insert_data( colum_set , data_insert , in_column_selete )"
   ]
  },
  {
   "cell_type": "code",
   "execution_count": 14,
   "metadata": {},
   "outputs": [],
   "source": [
    "#อัพเดทข้อมูล 1\n",
    "def update_data_1( data_update , in_column_change , in_column_selete ) :\n",
    " \n",
    "    # วน Loop เพิ่มค้นหาและอัพเดทข้อมูล\n",
    "    for value in data_update :\n",
    "\n",
    "        # ค้นหาข้อมูล\n",
    "        target = action_sheet.find(  value['data_find'] , in_column=in_column_selete  )\n",
    "\n",
    "        if target :\n",
    "\n",
    "            # ถ้าเจอข้อมูลที่ต้องการให้ทำงานเปลี่ยแปลง\n",
    "            action_sheet.update_cell( target.row , in_column_change , value['data_change'] )\n",
    "\n",
    "\n",
    "# ข้อมูลที่ต้องการอัพเดทตาราง\n",
    "data_update = [  {  'data_find' : '1234' , 'data_change' : 'Nameupdate'  }  ] \n",
    "\n",
    "# คอลั่มที่ต้องการค้นหาข้อมูล\n",
    "in_column_selete = 1\n",
    "\n",
    "# คอลั่มที่ต้องการเปลี่ยนแปลงข้อมูล\n",
    "in_column_change = 1\n",
    "\n",
    "update_data_1( data_update , in_column_change , in_column_selete )"
   ]
  },
  {
   "cell_type": "code",
   "execution_count": 15,
   "metadata": {},
   "outputs": [
    {
     "name": "stdout",
     "output_type": "stream",
     "text": [
      "A3\n"
     ]
    },
    {
     "name": "stderr",
     "output_type": "stream",
     "text": [
      "C:\\Users\\Administrator\\AppData\\Local\\Temp\\ipykernel_6096\\2334206276.py:14: DeprecationWarning: The order of arguments in worksheet.update() has changed. Please pass values first and range_name secondor used named arguments (range_name=, values=)\n",
      "  action_sheet.update( target.address , [ value['data_change'] ] )\n"
     ]
    }
   ],
   "source": [
    "#อัพเดทข้อมูลทัังแถว\n",
    "def update_data_2( data_update  , in_column_selete ) :\n",
    " \n",
    "    # วน Loop เพิ่มค้นหาและอัพเดทข้อมูล\n",
    "    for value in data_update :\n",
    "\n",
    "        # ค้นหาข้อมูล\n",
    "        target = action_sheet.find(  value['data_find'] , in_column=in_column_selete  )\n",
    "\n",
    "        if target :\n",
    "\n",
    "            print( target.address  )\n",
    "            # ถ้าเจอข้อมูลที่ต้องการให้ทำงานเปลี่ยแปลง\n",
    "            action_sheet.update( target.address , [ value['data_change'] ] )\n",
    "\n",
    "\n",
    "# ข้อมูลที่ต้องการอัพเดทตาราง\n",
    "data_update = [  {  'data_find' : 'Name1' , 'data_change' : [ 'NameNew' , 'NewPassword' , '1' , str( datetime.date.today() ) ]  }  ] \n",
    "\n",
    "# คอลั่มที่ต้องการค้นหาข้อมูล\n",
    "in_column_selete = 1\n",
    "\n",
    "update_data_2( data_update  , in_column_selete )"
   ]
  },
  {
   "cell_type": "code",
   "execution_count": 36,
   "metadata": {},
   "outputs": [],
   "source": [
    "#ลบข้อมูลใน ตาราง\n",
    "def delete_data_1( data_delete  , in_column_selete ) :\n",
    "\n",
    "    # วน Loop เพิ่มค้นหาและอัพเดทข้อมูล\n",
    "    for value in data_delete :\n",
    "\n",
    "        # ค้นหาข้อมูล\n",
    "        target = action_sheet.find(  value , in_column=in_column_selete  )\n",
    "\n",
    "        if target :\n",
    "\n",
    "            action_sheet.delete_rows( index=target.row)\n",
    "\n",
    "\n",
    "# กำหนดข้อมูลที่ต้องการลบออก\n",
    "data_delete = [ 'Name12345'  ]\n",
    "\n",
    "# คอลั่มที่ต้องการค้นหาข้อมูล\n",
    "in_column_selete = 1\n",
    "\n",
    "delete_data_1( data_delete  , in_column_selete )"
   ]
  },
  {
   "cell_type": "code",
   "execution_count": 35,
   "metadata": {},
   "outputs": [
    {
     "data": {
      "text/plain": [
       "True"
      ]
     },
     "execution_count": 35,
     "metadata": {},
     "output_type": "execute_result"
    }
   ],
   "source": [
    "#ลบข้อมูลใน ตาราง\n",
    "def delete_data_2( data_delete  , in_column_selete ) :\n",
    "\n",
    "    # วน Loop เพิ่มค้นหาและอัพเดทข้อมูล\n",
    "    for value in data_delete :\n",
    "\n",
    "        # วนลูปเพื่อ จะลบค่าทั้งหมด\n",
    "        while True :\n",
    "\n",
    "            # ค้นหาข้อมูล\n",
    "            target = action_sheet.findall(  value , in_column=in_column_selete  )\n",
    "\n",
    "            if  len( target ) > 0 :\n",
    "\n",
    "                for value_target in target :\n",
    "\n",
    "                    action_sheet.delete_row( index=value_target.row )\n",
    "                    break\n",
    "            \n",
    "            else :\n",
    "\n",
    "                return True\n",
    "\n",
    "# กำหนดข้อมูลที่ต้องการลบออก\n",
    "data_delete = [ 'Name12345' ]\n",
    "\n",
    "# คอลั่มที่ต้องการค้นหาข้อมูล\n",
    "in_column_selete = 1\n",
    "\n",
    "delete_data_2( data_delete  , in_column_selete )\n"
   ]
  }
 ],
 "metadata": {
  "kernelspec": {
   "display_name": "Python 3",
   "language": "python",
   "name": "python3"
  },
  "language_info": {
   "codemirror_mode": {
    "name": "ipython",
    "version": 3
   },
   "file_extension": ".py",
   "mimetype": "text/x-python",
   "name": "python",
   "nbconvert_exporter": "python",
   "pygments_lexer": "ipython3",
   "version": "3.11.5"
  }
 },
 "nbformat": 4,
 "nbformat_minor": 2
}
